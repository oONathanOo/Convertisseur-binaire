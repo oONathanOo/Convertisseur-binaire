{
  "nbformat": 4,
  "nbformat_minor": 0,
  "metadata": {
    "colab": {
      "provenance": [],
      "include_colab_link": true
    },
    "kernelspec": {
      "name": "python3",
      "display_name": "Python 3"
    }
  },
  "cells": [
    {
      "cell_type": "markdown",
      "metadata": {
        "id": "view-in-github",
        "colab_type": "text"
      },
      "source": [
        "<a href=\"https://colab.research.google.com/github/oONathanOo/Convertisseur-binaire/blob/main/R6C3_Activit%C3%A9s__Diviser_pour_R%C3%A9gner_.ipynb\" target=\"_parent\"><img src=\"https://colab.research.google.com/assets/colab-badge.svg\" alt=\"Open In Colab\"/></a>"
      ]
    },
    {
      "cell_type": "markdown",
      "metadata": {
        "id": "gYu8lBEpRx7D"
      },
      "source": [
        "# R6C3: Activités \"Diviser pour Régner\""
      ]
    },
    {
      "cell_type": "markdown",
      "metadata": {
        "id": "STArjgsvSDoA"
      },
      "source": [
        "Dans toutes ces activités on peut utiliser le module `random` pour générer un tableau de données aléatoire, et le module `time` de Python pour évaluer le temps d'exécution d'un programme :"
      ]
    },
    {
      "cell_type": "code",
      "metadata": {
        "id": "Yltx--1aSQjP"
      },
      "source": [
        "# Génération d'un tableau aléatoire de 1000 valeurs (pouvant être non distinctes)\n",
        "import random\n",
        "taille = 1000\n",
        "t =[]\n",
        "while len(t) < taille:\n",
        "  t.append(random.randint(0,taille))\n",
        "print(t)\n",
        "#--------------------------------------------------#\n",
        "# Détermination de la durée d'exécution\n",
        "import time\n",
        "debut = time.process_time()\n",
        "### Ecrire le programme exécutant l'algorithme ###\n",
        "fin = time.process_time()\n",
        "duree = fin - debut\n",
        "# Affichage du temps d exécution :\n",
        "print(\"Temps d'execution : \",duree,\"secondes\")\n",
        "print(t)\n",
        "#--------------------------------------------------#"
      ],
      "execution_count": null,
      "outputs": []
    },
    {
      "cell_type": "markdown",
      "metadata": {
        "id": "n2rK4kRqR6wA"
      },
      "source": [
        "## Activité 1 : Rappels sur les algorithmes de tri"
      ]
    },
    {
      "cell_type": "markdown",
      "metadata": {
        "id": "29QoqrlWSlUB"
      },
      "source": [
        "Vérifiez que les algorithmes de tris par insertion et par sélection sont de complexité en $O(n^2)$. On pourra s'aider du [document de l'année dernière](https://docs.google.com/document/d/1mQwBIyFzC1RhyWvMZjpK1lXq2wdKbhp6/edit?usp=share_link&ouid=113096983404567609019&rtpof=true&sd=true)."
      ]
    },
    {
      "cell_type": "code",
      "metadata": {
        "id": "egrct_0VRmUD"
      },
      "source": [
        "# Alogorithme de tri par insertion\n"
      ],
      "execution_count": null,
      "outputs": []
    },
    {
      "cell_type": "code",
      "metadata": {
        "id": "ntY0ggjCS_t0"
      },
      "source": [
        "# Algorithme de tri par selection\n"
      ],
      "execution_count": null,
      "outputs": []
    },
    {
      "cell_type": "markdown",
      "metadata": {
        "id": "zMOaXxjIaTh6"
      },
      "source": [
        "## Activité 2 : Le tri-fusion"
      ]
    },
    {
      "cell_type": "markdown",
      "metadata": {
        "id": "sJZC37ELaY1j"
      },
      "source": [
        "En vous aidant des algorithmes écrits dans le cours, proposez une implémentation **récursive** en Python de l'algorithme tri-fusion."
      ]
    },
    {
      "cell_type": "code",
      "metadata": {
        "id": "VmgGk5edatvS"
      },
      "source": [],
      "execution_count": null,
      "outputs": []
    },
    {
      "cell_type": "markdown",
      "metadata": {
        "id": "bQlY9yoVcjg5"
      },
      "source": [
        "De la même façon que dans l'Activité 1, vérifiez que la complexité de cet algorithme est en $O(nlog_2(n))$."
      ]
    },
    {
      "cell_type": "code",
      "metadata": {
        "id": "GMWQ5s8Tcx8_"
      },
      "source": [],
      "execution_count": null,
      "outputs": []
    },
    {
      "cell_type": "markdown",
      "metadata": {
        "id": "gHxGGtDIbH46"
      },
      "source": [
        "## Activité 3 : Recherche dichotomique"
      ]
    },
    {
      "cell_type": "markdown",
      "metadata": {
        "id": "wxXN8iVrd_rw"
      },
      "source": [
        "Implémentez l'approche naïve et l'approche par dichotomie du tri d'un tableau, et vérifiez que l'approche dichotomique est, en moyenne, plus efficace."
      ]
    },
    {
      "cell_type": "code",
      "metadata": {
        "id": "wtbAB_7ueQBg"
      },
      "source": [],
      "execution_count": null,
      "outputs": []
    },
    {
      "cell_type": "markdown",
      "metadata": {
        "id": "ZlVujevadG-a"
      },
      "source": [
        "## Activité 4 : Approche récursive"
      ]
    },
    {
      "cell_type": "markdown",
      "metadata": {
        "id": "pHRxtAaRdNBI"
      },
      "source": [
        "Proposez une implémentation récursive de la recherche dichotomique, et vérifiez sa complexité."
      ]
    },
    {
      "cell_type": "code",
      "metadata": {
        "id": "yp6WDa31dcT3"
      },
      "source": [],
      "execution_count": null,
      "outputs": []
    },
    {
      "cell_type": "markdown",
      "metadata": {
        "id": "VMMYihYue035"
      },
      "source": [
        "## Activité 5 : D'autres algorithmes de tri"
      ]
    },
    {
      "cell_type": "markdown",
      "metadata": {
        "id": "f2oohbXJe6TG"
      },
      "source": [
        "Cette [ressource en ligne](http://lwh.free.fr/pages/algo/tri/comparaison_tri.html) permet de comparer l'efficacité de quelques célèbres algorithmes de tri.\n",
        "\n",
        "Après avoir étudié comment fonctionne ce simulateur, vérifiez les complexités des tris étudiés précédemment, puis **trouvez l'algorithme de tri le plus efficace, selon le jeu de données initial.**"
      ]
    }
  ]
}